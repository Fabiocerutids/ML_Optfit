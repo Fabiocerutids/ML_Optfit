{
 "cells": [
  {
   "cell_type": "code",
   "execution_count": 1,
   "metadata": {},
   "outputs": [
    {
     "name": "stderr",
     "output_type": "stream",
     "text": [
      "c:\\Users\\faceru\\OneDrive - SAS\\Documents\\Personal\\ML_Optfit\\ml_opt_env\\Lib\\site-packages\\tqdm\\auto.py:21: TqdmWarning: IProgress not found. Please update jupyter and ipywidgets. See https://ipywidgets.readthedocs.io/en/stable/user_install.html\n",
      "  from .autonotebook import tqdm as notebook_tqdm\n"
     ]
    },
    {
     "data": {
      "text/html": [
       "<div>\n",
       "<style scoped>\n",
       "    .dataframe tbody tr th:only-of-type {\n",
       "        vertical-align: middle;\n",
       "    }\n",
       "\n",
       "    .dataframe tbody tr th {\n",
       "        vertical-align: top;\n",
       "    }\n",
       "\n",
       "    .dataframe thead th {\n",
       "        text-align: right;\n",
       "    }\n",
       "</style>\n",
       "<table border=\"1\" class=\"dataframe\">\n",
       "  <thead>\n",
       "    <tr style=\"text-align: right;\">\n",
       "      <th></th>\n",
       "      <th>gender</th>\n",
       "      <th>age</th>\n",
       "      <th>hypertension</th>\n",
       "      <th>heart_disease</th>\n",
       "      <th>smoking_history</th>\n",
       "      <th>bmi</th>\n",
       "      <th>HbA1c_level</th>\n",
       "      <th>blood_glucose_level</th>\n",
       "      <th>diabetes</th>\n",
       "    </tr>\n",
       "  </thead>\n",
       "  <tbody>\n",
       "    <tr>\n",
       "      <th>0</th>\n",
       "      <td>Female</td>\n",
       "      <td>80.0</td>\n",
       "      <td>0</td>\n",
       "      <td>1</td>\n",
       "      <td>never</td>\n",
       "      <td>25.19</td>\n",
       "      <td>6.6</td>\n",
       "      <td>140</td>\n",
       "      <td>0</td>\n",
       "    </tr>\n",
       "    <tr>\n",
       "      <th>1</th>\n",
       "      <td>Female</td>\n",
       "      <td>54.0</td>\n",
       "      <td>0</td>\n",
       "      <td>0</td>\n",
       "      <td>No Info</td>\n",
       "      <td>27.32</td>\n",
       "      <td>6.6</td>\n",
       "      <td>80</td>\n",
       "      <td>0</td>\n",
       "    </tr>\n",
       "  </tbody>\n",
       "</table>\n",
       "</div>"
      ],
      "text/plain": [
       "   gender   age  hypertension  heart_disease smoking_history    bmi  \\\n",
       "0  Female  80.0             0              1           never  25.19   \n",
       "1  Female  54.0             0              0         No Info  27.32   \n",
       "\n",
       "   HbA1c_level  blood_glucose_level  diabetes  \n",
       "0          6.6                  140         0  \n",
       "1          6.6                   80         0  "
      ]
     },
     "execution_count": 1,
     "metadata": {},
     "output_type": "execute_result"
    }
   ],
   "source": [
    "import pandas as pd \n",
    "import numpy as np\n",
    "import optuna\n",
    "from ml_optfit.ml_optfit import HyperOptim\n",
    "from sklearn.model_selection import train_test_split\n",
    "from sklearn.preprocessing import LabelEncoder\n",
    "from sklearn.metrics import f1_score\n",
    "from sklearn.ensemble import RandomForestClassifier\n",
    "df_data = pd.read_csv('diabetes_prediction_dataset.csv')\n",
    "df_data.head(2)"
   ]
  },
  {
   "cell_type": "code",
   "execution_count": 2,
   "metadata": {},
   "outputs": [
    {
     "name": "stdout",
     "output_type": "stream",
     "text": [
      "Train Size: 70000 --- Diabetes Frequency: 8.5%\n",
      "Valid Size: 20000 --- Diabetes Frequency: 8.49%\n",
      "Test Size: 10000 --- Diabetes Frequency: 8.5%\n"
     ]
    }
   ],
   "source": [
    "df_data['stratification_key']= df_data['hypertension'].astype(str) + '-' + df_data['heart_disease'].astype(str)+ '-' + df_data['smoking_history'].astype(str)+ '-' + df_data['diabetes'].astype(str)\n",
    "train, test = train_test_split(df_data, train_size=70000, stratify=df_data['stratification_key'])\n",
    "valid, test =train_test_split(test, train_size=20000, stratify=test['stratification_key'])\n",
    "print('Train Size:', train.shape[0], '--- Diabetes Frequency:', f'{round(100*train.diabetes.sum()/train.shape[0],2)}%')\n",
    "print('Valid Size:', valid.shape[0], '--- Diabetes Frequency:', f'{round(100*valid.diabetes.sum()/valid.shape[0],2)}%')\n",
    "print('Test Size:', test.shape[0], '--- Diabetes Frequency:', f'{round(100*test.diabetes.sum()/test.shape[0],2)}%')"
   ]
  },
  {
   "cell_type": "code",
   "execution_count": 3,
   "metadata": {},
   "outputs": [],
   "source": [
    "gender_encoder = LabelEncoder()\n",
    "train['gender']=gender_encoder.fit_transform(train['gender'])\n",
    "valid['gender']=gender_encoder.transform(valid['gender'])\n",
    "test['gender']=gender_encoder.transform(test['gender'])\n",
    "\n",
    "smoking_history_encoder = LabelEncoder()\n",
    "train['smoking_history']=smoking_history_encoder.fit_transform(train['smoking_history'])\n",
    "valid['smoking_history']=smoking_history_encoder.transform(valid['smoking_history'])\n",
    "test['smoking_history']=smoking_history_encoder.transform(test['smoking_history'])"
   ]
  },
  {
   "cell_type": "code",
   "execution_count": 4,
   "metadata": {},
   "outputs": [],
   "source": [
    "features = ['gender', 'age', 'hypertension', 'heart_disease', 'smoking_history', 'HbA1c_level', 'blood_glucose_level','bmi']\n",
    "target = ['diabetes']"
   ]
  },
  {
   "cell_type": "code",
   "execution_count": 5,
   "metadata": {},
   "outputs": [
    {
     "name": "stderr",
     "output_type": "stream",
     "text": [
      "Best trial: 16. Best value: 0.803764: 100%|██████████| 30/30 [01:57<00:00,  3.91s/it]\n"
     ]
    }
   ],
   "source": [
    "hyperopt=HyperOptim(direction='maximize', \n",
    "                    train=train, \n",
    "                    valid=valid, \n",
    "                    features=features, \n",
    "                    target='diabetes', \n",
    "                    evaluation_func=f1_score)\n",
    "\n",
    "forest_hyper_dict = {'class_weight':\n",
    "                            {'type': 'class',\n",
    "                            'values': ['balanced', 'balanced_subsample', None]},\n",
    "                    'n_estimators':\n",
    "                            {'type': 'int',\n",
    "                            'low': 100,\n",
    "                            'high':600,\n",
    "                            'log':False,\n",
    "                            'step':100},\n",
    "                    'min_impurity_decrease':\n",
    "                            {'type': 'float',\n",
    "                            'low': 0,\n",
    "                            'high':0.1,\n",
    "                            'log':False,\n",
    "                            'step':0.01}\n",
    "                            }\n",
    "\n",
    "study, best_hyper, best_model=hyperopt.optimize_model(model_type=RandomForestClassifier, \n",
    "                       study_name='randomforest', \n",
    "                       hyperparam_dict=forest_hyper_dict, \n",
    "                       multivariate=False, \n",
    "                       n_trials=30)"
   ]
  },
  {
   "cell_type": "code",
   "execution_count": 6,
   "metadata": {},
   "outputs": [
    {
     "data": {
      "text/plain": [
       "(<optuna.study.study.Study at 0x18131f86840>,\n",
       " {'class_weight': 'balanced_subsample',\n",
       "  'n_estimators': 100,\n",
       "  'min_impurity_decrease': 0.02,\n",
       "  'best_threshold': 0.6161616161616162},\n",
       " RandomForestClassifier(class_weight='balanced_subsample',\n",
       "                        min_impurity_decrease=0.02))"
      ]
     },
     "execution_count": 6,
     "metadata": {},
     "output_type": "execute_result"
    }
   ],
   "source": [
    "study, best_hyper, best_model"
   ]
  }
 ],
 "metadata": {
  "kernelspec": {
   "display_name": "ml_opt_env",
   "language": "python",
   "name": "python3"
  },
  "language_info": {
   "codemirror_mode": {
    "name": "ipython",
    "version": 3
   },
   "file_extension": ".py",
   "mimetype": "text/x-python",
   "name": "python",
   "nbconvert_exporter": "python",
   "pygments_lexer": "ipython3",
   "version": "3.12.3"
  }
 },
 "nbformat": 4,
 "nbformat_minor": 2
}
